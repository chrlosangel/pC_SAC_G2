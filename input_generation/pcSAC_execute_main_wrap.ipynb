{
 "cells": [
  {
   "cell_type": "code",
   "execution_count": 1,
   "metadata": {},
   "outputs": [
    {
     "name": "stdout",
     "output_type": "stream",
     "text": [
      "Importing pcSAC libraries...\n"
     ]
    }
   ],
   "source": [
    "# -*- coding: utf-8 -*-\n",
    "\"\"\"\n",
    "\n",
    "Examples to run main functions to generate input files\n",
    "Python version: 3.10.12\n",
    "\"\"\"\n",
    "\n",
    "\n",
    "import importlib\n",
    "import numpy as np\n",
    "import scipy as scp\n",
    "import torch\n",
    "import pandas as pd\n",
    "import hicstraw\n",
    "from pathlib import Path\n",
    "from matplotlib.colors import LinearSegmentedColormap\n",
    "from matplotlib import pyplot as plt\n",
    "from matplotlib import gridspec\n",
    "import matplotlib.pyplot as plt \n",
    "import seaborn as sns\n",
    "import sys\n",
    "from math import trunc\n",
    "import os\n",
    "\n",
    "sys.path.append('/gpfs/commons/home/cangel/g2lab/projects/01_12_23_highResolutionHiC/scripts/input_generation')\n",
    "\n",
    "from src import utils\n",
    "from src import globals\n",
    "from src import submatrices\n",
    "from src import reconstruct\n",
    "np.set_printoptions(threshold=sys.maxsize)"
   ]
  },
  {
   "cell_type": "code",
   "execution_count": 3,
   "metadata": {},
   "outputs": [
    {
     "name": "stdout",
     "output_type": "stream",
     "text": [
      "Submitted batch job 43693214\n"
     ]
    }
   ],
   "source": [
    "\n",
    "utils.run_genData(\n",
    "    chr=globals.chromosome,\n",
    "    start=globals.start,\n",
    "    end=globals.end,\n",
    "    downsample_factor=16,\n",
    "    hic_res=5000, \n",
    "    lrbin=4,\n",
    "    split_chains=False,\n",
    "    file=globals.hic_file\n",
    ")"
   ]
  },
  {
   "cell_type": "code",
   "execution_count": 5,
   "metadata": {},
   "outputs": [
    {
     "name": "stdout",
     "output_type": "stream",
     "text": [
      "Submitted batch job 43693233\n",
      "Submitted batch job 43693234\n",
      "Submitted batch job 43693235\n"
     ]
    }
   ],
   "source": [
    "for ds in [25,50,100]:\n",
    "    utils.run_genData(\n",
    "        chr=globals.chromosome,\n",
    "        start=globals.start,\n",
    "        end=globals.end,\n",
    "        downsample_factor=ds,\n",
    "        hic_res=5000, \n",
    "        lrbin=4,\n",
    "        split_chains=False,\n",
    "        file=globals.hic_file\n",
    "    )"
   ]
  },
  {
   "cell_type": "code",
   "execution_count": 7,
   "metadata": {},
   "outputs": [
    {
     "name": "stdout",
     "output_type": "stream",
     "text": [
      "Submitted batch job 43693239\n",
      "Submitted batch job 43693240\n",
      "Submitted batch job 43693241\n"
     ]
    }
   ],
   "source": [
    "for ds in [25,50,100]:\n",
    "    utils.run_pcSAC(\n",
    "                    chromosome=str(\"chr\")+\"20\",\n",
    "                    downsampling_factor=ds,\n",
    "                    lrf=20,\n",
    "                    run_option=\"whole\",\n",
    "                    number_chains=10000,\n",
    "                    split_chains=False,\n",
    "                    region_size=int(globals.end-globals.start),\n",
    "                    hic_res=5000,\n",
    "                    cell=\"GM12878\")"
   ]
  },
  {
   "cell_type": "code",
   "execution_count": 3,
   "metadata": {},
   "outputs": [
    {
     "name": "stdout",
     "output_type": "stream",
     "text": [
      "['sbatch', '/gpfs/commons/home/cangel/g2lab/projects/01_12_23_highResolutionHiC/scripts/ParameterTuning/03.compare_matrices.sh', '-d', '16', '-z', '2000000', '-h', '5000', '-l', '20', '-o', 'whole', '-n', '10000', '-c', '20', '-s', '100000', '-i', '99', '-t', 'GM12878']\n",
      "Submitted batch job 45595831\n"
     ]
    }
   ],
   "source": [
    "for ds in [16,25,50,100]:\n",
    "    reconstruct.run_reconstruction(downsampling_factor=int(ds),\n",
    "                                    lrf=20,\n",
    "                                    run_option=\"whole\",\n",
    "                                    number_chains=10000,\n",
    "                                    region_size = globals.size,\n",
    "                                    hic_res=5000,\n",
    "                                    chromosome = globals.chromosome,\n",
    "                                    start=globals.start,\n",
    "                                    cell_t=\"GM12878\")\n"
   ]
  }
 ],
 "metadata": {
  "kernelspec": {
   "display_name": "base",
   "language": "python",
   "name": "python3"
  },
  "language_info": {
   "codemirror_mode": {
    "name": "ipython",
    "version": 3
   },
   "file_extension": ".py",
   "mimetype": "text/x-python",
   "name": "python",
   "nbconvert_exporter": "python",
   "pygments_lexer": "ipython3",
   "version": "3.10.12"
  },
  "orig_nbformat": 4
 },
 "nbformat": 4,
 "nbformat_minor": 2
}
